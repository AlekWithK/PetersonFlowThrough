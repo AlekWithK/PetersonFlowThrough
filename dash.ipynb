{
 "cells": [
  {
   "cell_type": "code",
   "execution_count": 28,
   "metadata": {},
   "outputs": [
    {
     "data": {
      "text/html": [
       "\n",
       "        <iframe\n",
       "            width=\"100%\"\n",
       "            height=\"650\"\n",
       "            src=\"http://127.0.0.1:8050/\"\n",
       "            frameborder=\"0\"\n",
       "            allowfullscreen\n",
       "            \n",
       "        ></iframe>\n",
       "        "
      ],
      "text/plain": [
       "<IPython.lib.display.IFrame at 0x25d517aba30>"
      ]
     },
     "metadata": {},
     "output_type": "display_data"
    }
   ],
   "source": [
    "from dash import Dash, html, dcc, callback, Output, Input\n",
    "import plotly.express as px\n",
    "import pandas as pd\n",
    "\n",
    "df = pd.read_parquet('Merges/PETERSON_MASTER.parquet')\n",
    "\n",
    "app = Dash()\n",
    "\n",
    "app.layout = html.Div(children=[\n",
    "    html.H1(children='Title of Dash App', style={'textAlign':'center'}),\n",
    "    dcc.Dropdown(df.datetime.dt.year.unique(), '1994', id='dropdown-selection'),\n",
    "    dcc.Graph(id='graph-content')\n",
    "])\n",
    "\n",
    "@callback(\n",
    "    Output('graph-content', 'figure'),\n",
    "    Input('dropdown-selection', 'value')\n",
    ")\n",
    "def update_graph(value):\n",
    "    dff = df[df.datetime.dt.year==value]\n",
    "    return px.bar(dff, x='datetime', y='chlor')\n",
    "\n",
    "if __name__ == '__main__':\n",
    "    app.run(debug=True)"
   ]
  }
 ],
 "metadata": {
  "kernelspec": {
   "display_name": "PetersonFlowThrough",
   "language": "python",
   "name": "python3"
  },
  "language_info": {
   "codemirror_mode": {
    "name": "ipython",
    "version": 3
   },
   "file_extension": ".py",
   "mimetype": "text/x-python",
   "name": "python",
   "nbconvert_exporter": "python",
   "pygments_lexer": "ipython3",
   "version": "3.9.19"
  }
 },
 "nbformat": 4,
 "nbformat_minor": 2
}
