{
 "cells": [
  {
   "cell_type": "code",
   "execution_count": 1,
   "metadata": {},
   "outputs": [],
   "source": [
    "import os\n",
    "\n",
    "import pandas as pd\n",
    "import geopandas as gpd\n",
    "import numpy as np\n",
    "import geopy.distance\n",
    "import matplotlib.pyplot as plt\n",
    "from dash import Dash, html, dcc, callback, Output, Input\n",
    "import plotly.express as px # type: ignore\n",
    "\n",
    "from datetime import date, timedelta\n",
    "from tqdm.auto import tqdm\n",
    "\n",
    "tqdm.pandas()"
   ]
  },
  {
   "cell_type": "code",
   "execution_count": 2,
   "metadata": {},
   "outputs": [],
   "source": [
    "df = pd.read_parquet('Merges/PETERSON_FINAL.parquet').sort_values(by='datetime')\n",
    "df.datetime = pd.to_datetime(df.datetime)"
   ]
  },
  {
   "cell_type": "code",
   "execution_count": 3,
   "metadata": {},
   "outputs": [
    {
     "data": {
      "text/html": [
       "\n",
       "        <iframe\n",
       "            width=\"100%\"\n",
       "            height=\"650\"\n",
       "            src=\"http://127.0.0.1:8050/\"\n",
       "            frameborder=\"0\"\n",
       "            allowfullscreen\n",
       "            \n",
       "        ></iframe>\n",
       "        "
      ],
      "text/plain": [
       "<IPython.lib.display.IFrame at 0x2056c23c340>"
      ]
     },
     "metadata": {},
     "output_type": "display_data"
    }
   ],
   "source": [
    "metric = 'chlor'\n",
    "df = df[df.chlor.between(0, 15)]\n",
    "\n",
    "app1 = Dash()\n",
    "\n",
    "app1.layout = html.Div(children=[\n",
    "    dcc.Dropdown(df.file.unique(), df.file.unique()[-1], id='dropdown-selection'),\n",
    "    #dcc.Dropdown(df.columns.to_list, 'chlor', id='dropdown-selection2', style={'margin-top': '10px'}),\n",
    "    dcc.Graph(id='graph-content', style={'margin-top': '10px'})\n",
    "])\n",
    "\n",
    "@callback(\n",
    "    Output('graph-content', 'figure'),\n",
    "    Input('dropdown-selection', 'value'),\n",
    "    #Input('dropdown-selection2', 'value')\n",
    ")\n",
    "def update_graph(value):\n",
    "    dff = df[df.file==value]\n",
    "    figure = px.scatter(dff, x='datetime', y='d_from_start', color=metric, hover_data=['station_id'],\n",
    "                        labels={'d_from_start': 'Distance from Start Point (km)', 'datetime': 'Datetime'},\n",
    "                        title=f'{metric.capitalize()} vs time and distance from Southbay')\n",
    "    figure.layout.plot_bgcolor = 'lightgrey'\n",
    "    figure.layout.paper_bgcolor = 'white'\n",
    "    figure.update_layout(\n",
    "        title={\n",
    "            'y': 0.85,\n",
    "            'x': 0.5,\n",
    "            'xanchor': 'center',\n",
    "            'yanchor': 'top'\n",
    "        }\n",
    "    )\n",
    "    return figure\n",
    "\n",
    "if __name__ == '__main__':\n",
    "    app1.run(debug=True)"
   ]
  }
 ],
 "metadata": {
  "kernelspec": {
   "display_name": "PetersonFlowThrough",
   "language": "python",
   "name": "python3"
  },
  "language_info": {
   "codemirror_mode": {
    "name": "ipython",
    "version": 3
   },
   "file_extension": ".py",
   "mimetype": "text/x-python",
   "name": "python",
   "nbconvert_exporter": "python",
   "pygments_lexer": "ipython3",
   "version": "3.9.19"
  }
 },
 "nbformat": 4,
 "nbformat_minor": 2
}
